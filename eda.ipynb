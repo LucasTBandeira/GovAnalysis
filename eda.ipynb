{
 "cells": [
  {
   "cell_type": "code",
   "execution_count": 2,
   "metadata": {},
   "outputs": [],
   "source": [
    "import pandas as pd\n",
    "df_votacao = pd.read_csv('data/votacao_rs.csv', sep=';', encoding='latin-1')\n",
    "df_perfil  = pd.read_csv('data/perfil_eleitor_rs.csv', sep=';', encoding='latin-1')\n"
   ]
  },
  {
   "cell_type": "code",
   "execution_count": 10,
   "metadata": {},
   "outputs": [
    {
     "name": "stdout",
     "output_type": "stream",
     "text": [
      "['ENSINO FUNDAMENTAL INCOMPLETO' 'ENSINO MÉDIO INCOMPLETO'\n",
      " 'ENSINO MÉDIO COMPLETO' 'SUPERIOR INCOMPLETO' 'SUPERIOR COMPLETO'\n",
      " 'ENSINO FUNDAMENTAL COMPLETO' 'LÊ E ESCREVE' 'ANALFABETO' 'NÃO INFORMADO']\n"
     ]
    }
   ],
   "source": [
    "graus     = df_perfil['DS_GRAU_ESCOLARIDADE'].unique()\n",
    "print(graus)\n"
   ]
  },
  {
   "cell_type": "code",
   "execution_count": 9,
   "metadata": {},
   "outputs": [
    {
     "name": "stdout",
     "output_type": "stream",
     "text": [
      "DS_GRAU_ESCOLARIDADE\n",
      "ENSINO FUNDAMENTAL INCOMPLETO    1080014\n",
      "ENSINO MÉDIO COMPLETO             885573\n",
      "ENSINO MÉDIO INCOMPLETO           589496\n",
      "ENSINO FUNDAMENTAL COMPLETO       555225\n",
      "SUPERIOR COMPLETO                 514987\n",
      "SUPERIOR INCOMPLETO               361882\n",
      "LÊ E ESCREVE                      215042\n",
      "ANALFABETO                        139364\n",
      "NÃO INFORMADO                       1145\n",
      "Name: count, dtype: int64\n"
     ]
    }
   ],
   "source": [
    "qtd_graus = df_perfil['DS_GRAU_ESCOLARIDADE'].value_counts()\n",
    "print(qtd_graus)"
   ]
  },
  {
   "cell_type": "code",
   "execution_count": 8,
   "metadata": {},
   "outputs": [
    {
     "name": "stdout",
     "output_type": "stream",
     "text": [
      "['21 a 24 anos                  ' '25 a 29 anos                  '\n",
      " '30 a 34 anos                  ' '35 a 39 anos                  '\n",
      " '40 a 44 anos                  ' '45 a 49 anos                  '\n",
      " '50 a 54 anos                  ' '55 a 59 anos                  '\n",
      " '60 a 64 anos                  ' '65 a 69 anos                  '\n",
      " '75 a 79 anos                  ' '70 a 74 anos                  '\n",
      " '80 a 84 anos                  ' '85 a 89 anos                  '\n",
      " '19 anos                       ' '17 anos                       '\n",
      " '18 anos                       ' '20 anos                       '\n",
      " '16 anos                       ' '90 a 94 anos                  '\n",
      " '95 a 99 anos                  ' '100 anos ou mais              '\n",
      " 'Inválido                      ']\n"
     ]
    }
   ],
   "source": [
    "etaria = df_perfil['DS_FAIXA_ETARIA'].unique()\n",
    "print(etaria)"
   ]
  },
  {
   "cell_type": "code",
   "execution_count": 11,
   "metadata": {},
   "outputs": [
    {
     "name": "stdout",
     "output_type": "stream",
     "text": [
      "DS_FAIXA_ETARIA\n",
      "55 a 59 anos                      407044\n",
      "60 a 64 anos                      387265\n",
      "40 a 44 anos                      380388\n",
      "50 a 54 anos                      371454\n",
      "45 a 49 anos                      369492\n",
      "35 a 39 anos                      353282\n",
      "65 a 69 anos                      333193\n",
      "30 a 34 anos                      311723\n",
      "25 a 29 anos                      265688\n",
      "70 a 74 anos                      263597\n",
      "21 a 24 anos                      187991\n",
      "75 a 79 anos                      186965\n",
      "80 a 84 anos                      123045\n",
      "85 a 89 anos                       73956\n",
      "20 anos                            73587\n",
      "19 anos                            67129\n",
      "18 anos                            61242\n",
      "90 a 94 anos                       38482\n",
      "17 anos                            33958\n",
      "16 anos                            23571\n",
      "95 a 99 anos                       21446\n",
      "100 anos ou mais                    8218\n",
      "Inválido                              12\n",
      "Name: count, dtype: int64\n"
     ]
    }
   ],
   "source": [
    "qtd_etaria = df_perfil['DS_FAIXA_ETARIA'].value_counts()\n",
    "print(qtd_etaria)"
   ]
  },
  {
   "cell_type": "code",
   "execution_count": 12,
   "metadata": {},
   "outputs": [
    {
     "data": {
      "text/plain": [
       "Index(['DT_GERACAO', 'HH_GERACAO', 'ANO_ELEICAO', 'SG_UF', 'CD_MUNICIPIO',\n",
       "       'NM_MUNICIPIO', 'CD_MUN_SIT_BIOMETRICA', 'DS_MUN_SIT_BIOMETRICA',\n",
       "       'NR_ZONA', 'NR_SECAO', 'NR_LOCAL_VOTACAO', 'CD_GENERO', 'DS_GENERO',\n",
       "       'CD_ESTADO_CIVIL', 'DS_ESTADO_CIVIL', 'CD_FAIXA_ETARIA',\n",
       "       'DS_FAIXA_ETARIA', 'CD_GRAU_ESCOLARIDADE', 'DS_GRAU_ESCOLARIDADE',\n",
       "       'QT_ELEITORES_PERFIL', 'QT_ELEITORES_BIOMETRIA',\n",
       "       'QT_ELEITORES_DEFICIENCIA', 'QT_ELEITORES_INC_NM_SOCIAL'],\n",
       "      dtype='object')"
      ]
     },
     "execution_count": 12,
     "metadata": {},
     "output_type": "execute_result"
    }
   ],
   "source": [
    "df_perfil.columns"
   ]
  },
  {
   "cell_type": "code",
   "execution_count": 13,
   "metadata": {},
   "outputs": [
    {
     "data": {
      "text/plain": [
       "Index(['DT_GERACAO', 'HH_GERACAO', 'ANO_ELEICAO', 'CD_TIPO_ELEICAO',\n",
       "       'NM_TIPO_ELEICAO', 'NR_TURNO', 'CD_ELEICAO', 'DS_ELEICAO', 'DT_ELEICAO',\n",
       "       'TP_ABRANGENCIA', 'SG_UF', 'SG_UE', 'NM_UE', 'CD_MUNICIPIO',\n",
       "       'NM_MUNICIPIO', 'NR_ZONA', 'NR_SECAO', 'CD_CARGO', 'DS_CARGO',\n",
       "       'NR_VOTAVEL', 'NM_VOTAVEL', 'QT_VOTOS', 'NR_LOCAL_VOTACAO',\n",
       "       'SQ_CANDIDATO', 'NM_LOCAL_VOTACAO', 'DS_LOCAL_VOTACAO_ENDERECO'],\n",
       "      dtype='object')"
      ]
     },
     "execution_count": 13,
     "metadata": {},
     "output_type": "execute_result"
    }
   ],
   "source": [
    "df_votacao.columns"
   ]
  }
 ],
 "metadata": {
  "kernelspec": {
   "display_name": "Python 3",
   "language": "python",
   "name": "python3"
  },
  "language_info": {
   "codemirror_mode": {
    "name": "ipython",
    "version": 3
   },
   "file_extension": ".py",
   "mimetype": "text/x-python",
   "name": "python",
   "nbconvert_exporter": "python",
   "pygments_lexer": "ipython3",
   "version": "3.12.0"
  }
 },
 "nbformat": 4,
 "nbformat_minor": 2
}
