{
 "cells": [
  {
   "cell_type": "code",
   "execution_count": 1,
   "metadata": {},
   "outputs": [],
   "source": [
    "import pandas as pd\n",
    "import matplotlib.pyplot as plt"
   ]
  },
  {
   "cell_type": "markdown",
   "metadata": {},
   "source": [
    "---\n",
    "## Leitura dos Dados"
   ]
  },
  {
   "cell_type": "code",
   "execution_count": null,
   "metadata": {},
   "outputs": [],
   "source": [
    "# Leitura do dataset (limpo) de bens dos candidatos\n",
    "df_bens = pd.read_csv('data/cleaned/bens_candidatos_brasil.csv', sep=';', encoding='latin-1')\n",
    "df_bens.head()"
   ]
  },
  {
   "cell_type": "code",
   "execution_count": null,
   "metadata": {},
   "outputs": [],
   "source": [
    "# Leitura do dataset (limpo) de despesas dos candidatos\n",
    "df_despesas = pd.read_csv('data/cleaned/despesas_candidatos_brasil.csv', sep=';', encoding='latin-1')\n",
    "df_despesas.head()"
   ]
  },
  {
   "cell_type": "code",
   "execution_count": null,
   "metadata": {},
   "outputs": [],
   "source": [
    "# Leitura do dataset (limpo) de receitas dos candidatos\n",
    "df_votacao = pd.read_csv('data/cleaned/votacao_nominal_brasil.csv', sep=';', encoding='latin-1')\n",
    "df_votacao.head()"
   ]
  },
  {
   "cell_type": "markdown",
   "metadata": {},
   "source": [
    "---\n",
    "## Tipos dos Dados"
   ]
  },
  {
   "cell_type": "code",
   "execution_count": null,
   "metadata": {},
   "outputs": [],
   "source": [
    "# Verificação dos tipos das colunas (atributos) do dataset de bens dos candidatos\n",
    "df_bens.dtypes"
   ]
  },
  {
   "cell_type": "code",
   "execution_count": 6,
   "metadata": {},
   "outputs": [],
   "source": [
    "# Transformações necessárias para os tipos de dados\n",
    "df_bens['VR_BEM_CANDIDATO'] = df_bens['VR_BEM_CANDIDATO'].str.replace(',', '.').astype(float)"
   ]
  },
  {
   "cell_type": "code",
   "execution_count": null,
   "metadata": {},
   "outputs": [],
   "source": [
    "# Verificação dos tipos das colunas (atributos) do dataset de despesas dos candidatos\n",
    "df_despesas.dtypes"
   ]
  },
  {
   "cell_type": "code",
   "execution_count": 8,
   "metadata": {},
   "outputs": [],
   "source": [
    "# Transformações necessárias para os tipos de dados\n",
    "df_despesas['VR_DESPESA_CONTRATADA'] = df_despesas['VR_DESPESA_CONTRATADA'].str.replace(',', '.').astype(float)"
   ]
  },
  {
   "cell_type": "code",
   "execution_count": null,
   "metadata": {},
   "outputs": [],
   "source": [
    "# Verificação dos tipos das colunas (atributos) do dataset de votação nominal\n",
    "df_votacao.dtypes"
   ]
  },
  {
   "cell_type": "markdown",
   "metadata": {},
   "source": [
    "---\n",
    "## Estatísticas Básicas - Bens dos Candidatos"
   ]
  },
  {
   "cell_type": "code",
   "execution_count": null,
   "metadata": {},
   "outputs": [],
   "source": [
    "# Calculando as médias de bens declarados\n",
    "mean_asset_value  = df_bens['VR_BEM_CANDIDATO'].mean()\n",
    "mean_by_state     = df_bens.groupby('NM_UE')['VR_BEM_CANDIDATO'].mean()\n",
    "mean_by_candidate = df_bens.groupby('SQ_CANDIDATO')['VR_BEM_CANDIDATO'].mean()\n",
    "\n",
    "# Calculando a mediana de bens declarados\n",
    "median_asset_value = df_bens['VR_BEM_CANDIDATO'].median()\n",
    "\n",
    "print(f\"Média de bens declarados: R$ {mean_asset_value:.2f}\")\n",
    "print(f\"Mediana de bens declarados: R$ {median_asset_value:.2f}\")"
   ]
  },
  {
   "cell_type": "code",
   "execution_count": null,
   "metadata": {},
   "outputs": [],
   "source": [
    "# Plotando a média de bens declarados por estado\n",
    "plt.figure(figsize=(14, 8))\n",
    "mean_by_state.plot(kind='bar', color='steelblue', edgecolor='black')\n",
    "plt.title('Média de Bens Declarados por Estado', fontsize=16)\n",
    "plt.xlabel('Estado', fontsize=12)\n",
    "plt.ylabel('Média de Bens Declarados (R$)', fontsize=12)\n",
    "plt.xticks(rotation=90)\n",
    "plt.grid(axis='y', linestyle='--', alpha=0.7)\n",
    "\n",
    "plt.gca().get_yaxis().set_major_formatter(plt.matplotlib.ticker.FuncFormatter(lambda x, _: f'R$ {x:,.0f}'))\n",
    "\n",
    "plt.tight_layout()\n",
    "plt.show()"
   ]
  },
  {
   "cell_type": "code",
   "execution_count": null,
   "metadata": {},
   "outputs": [],
   "source": [
    "# Calculando total de instâncias, total de bens declarados e total de candidatos\n",
    "sum_asset_value     = df_bens['VR_BEM_CANDIDATO'].sum()\n",
    "count_assets        = df_bens['VR_BEM_CANDIDATO'].count()\n",
    "total_candidates    = df_bens['SQ_CANDIDATO'].nunique()\n",
    "candidates_by_state = df_bens.groupby('SG_UF')['SQ_CANDIDATO'].nunique()\n",
    "\n",
    "print(f\"\\nTotal de bens declarados: R$ {sum_asset_value:.2f}\")\n",
    "print(f\"Quantidade de bens declarados: {count_assets}\")\n",
    "print(f\"Quantidade de candidatos: {total_candidates}\")"
   ]
  },
  {
   "cell_type": "code",
   "execution_count": null,
   "metadata": {},
   "outputs": [],
   "source": [
    "# Plotando a quantidade de candidatos por estado\n",
    "plt.figure(figsize=(10, 6))\n",
    "candidates_by_state.plot(kind='bar', color='coral')\n",
    "plt.title('Quantidade de Candidatos por Estado')\n",
    "plt.xlabel('Estado')\n",
    "plt.ylabel('Quantidade de Candidatos')\n",
    "plt.xticks(rotation=45)\n",
    "plt.tight_layout()\n",
    "plt.show()"
   ]
  },
  {
   "cell_type": "code",
   "execution_count": null,
   "metadata": {},
   "outputs": [],
   "source": [
    "# Calculando as variações de bens declarados\n",
    "std_asset_value  = df_bens['VR_BEM_CANDIDATO'].std()\n",
    "std_by_state     = df_bens.groupby('NM_UE')['VR_BEM_CANDIDATO'].std()\n",
    "std_by_candidate = df_bens.groupby('SQ_CANDIDATO')['VR_BEM_CANDIDATO'].std()\n",
    "\n",
    "print(f\"Variação de bens declarados: R$ {std_asset_value:.2f}\")\n",
    "\n",
    "print(\"\\nVariação de bens declarados por estado:\")\n",
    "for position, value in mean_by_state.items():\n",
    "    print(f\"{position}: R$ {value:.2f}\")\n",
    "\n",
    "print(\"\\nVarição de bens declarados por candidato:\")\n",
    "for candidate, value in mean_by_candidate.items():\n",
    "    print(f\"Candidato {candidate}: R$ {value:.2f}\")"
   ]
  },
  {
   "cell_type": "code",
   "execution_count": null,
   "metadata": {},
   "outputs": [],
   "source": [
    "# Calculando a moda e a ocorrência dos tipos de bens declarados\n"
   ]
  },
  {
   "cell_type": "markdown",
   "metadata": {},
   "source": [
    "---\n",
    "## Estatísticas Básicas - Despesas dos Candidatos"
   ]
  },
  {
   "cell_type": "code",
   "execution_count": null,
   "metadata": {},
   "outputs": [],
   "source": []
  },
  {
   "cell_type": "markdown",
   "metadata": {},
   "source": [
    "---\n",
    "## Estatísticas Básicas - Votação Nominal"
   ]
  },
  {
   "cell_type": "code",
   "execution_count": null,
   "metadata": {},
   "outputs": [],
   "source": []
  },
  {
   "cell_type": "markdown",
   "metadata": {},
   "source": [
    "---\n",
    "## Normalização"
   ]
  },
  {
   "cell_type": "code",
   "execution_count": null,
   "metadata": {},
   "outputs": [],
   "source": []
  },
  {
   "cell_type": "markdown",
   "metadata": {},
   "source": [
    "---\n",
    "## Correlações"
   ]
  },
  {
   "cell_type": "code",
   "execution_count": null,
   "metadata": {},
   "outputs": [],
   "source": []
  }
 ],
 "metadata": {
  "kernelspec": {
   "display_name": "Python 3",
   "language": "python",
   "name": "python3"
  },
  "language_info": {
   "codemirror_mode": {
    "name": "ipython",
    "version": 3
   },
   "file_extension": ".py",
   "mimetype": "text/x-python",
   "name": "python",
   "nbconvert_exporter": "python",
   "pygments_lexer": "ipython3",
   "version": "3.12.0"
  }
 },
 "nbformat": 4,
 "nbformat_minor": 2
}
