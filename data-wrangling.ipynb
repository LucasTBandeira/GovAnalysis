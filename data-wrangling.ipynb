{
 "cells": [
  {
   "cell_type": "code",
   "execution_count": 1,
   "metadata": {},
   "outputs": [],
   "source": [
    "import pandas as pd"
   ]
  },
  {
   "cell_type": "markdown",
   "metadata": {},
   "source": [
    "---\n",
    "## Leitura dos Dados\n",
    "\n",
    "Primeiramente, são lidos os dados originais disponibilizados pelo portal do TSE no formato de arquivos .csv. Após, são identificados os dados verdadeiramente relevantes ao projeto.\n",
    "\n",
    "Conforme constatado em uma breve análise das questões a serem respondidas, foi identificado que diversos atributos que compõem os datasets são irrelevantes para a completude do objetivo do projeto. Assim, foi decidido pela eliminação dessas colunas visando maior otimização (em questões relacionadas à memória) e melhor apresentação dos dados. Também, como o foco da pesquisa está centrado em determinados cargos políticos, foram retirados os registros que não competem à condidatos concorrendos a eles."
   ]
  },
  {
   "cell_type": "code",
   "execution_count": 2,
   "metadata": {},
   "outputs": [],
   "source": [
    "df_bens     = pd.read_csv('data/datasets/bens_candidatos_brasil.csv', sep=';', encoding='latin-1')\n",
    "df_despesas = pd.read_csv('data/datasets/despesas_candidatos_brasil.csv', sep=';', encoding='latin-1')\n",
    "df_votacao  = pd.read_csv('data/datasets/votacao_nominal_brasil.csv', sep=';', encoding='latin-1')"
   ]
  },
  {
   "cell_type": "markdown",
   "metadata": {},
   "source": [
    "Abaixo, estão definidos os atributos relevantes do dataset de `bens dos candidatos`:\n",
    "\n",
    "- SG_UF\n",
    "- SG_UE\n",
    "- NM_UE\n",
    "- SQ_CANDIDATO\n",
    "- CD_TIPO_BEM_CANDIDATO\n",
    "- DS_TIPO_BEM_CANDIDATO\n",
    "- VR_BEM_CANDIDATO"
   ]
  },
  {
   "cell_type": "code",
   "execution_count": 3,
   "metadata": {},
   "outputs": [
    {
     "data": {
      "text/plain": [
       "Index(['DT_GERACAO', 'HH_GERACAO', 'ANO_ELEICAO', 'CD_TIPO_ELEICAO',\n",
       "       'NM_TIPO_ELEICAO', 'CD_ELEICAO', 'DS_ELEICAO', 'DT_ELEICAO', 'SG_UF',\n",
       "       'SG_UE', 'NM_UE', 'SQ_CANDIDATO', 'NR_ORDEM_BEM_CANDIDATO',\n",
       "       'CD_TIPO_BEM_CANDIDATO', 'DS_TIPO_BEM_CANDIDATO', 'DS_BEM_CANDIDATO',\n",
       "       'VR_BEM_CANDIDATO', 'DT_ULT_ATUAL_BEM_CANDIDATO',\n",
       "       'HH_ULT_ATUAL_BEM_CANDIDATO'],\n",
       "      dtype='object')"
      ]
     },
     "execution_count": 3,
     "metadata": {},
     "output_type": "execute_result"
    }
   ],
   "source": [
    "df_bens.columns"
   ]
  },
  {
   "cell_type": "markdown",
   "metadata": {},
   "source": [
    "Abaixo, estão definidos os atributos relevantes do dataset de `despesas dos candidatos`:\n",
    "\n",
    "- ST_TURNO\n",
    "- SG_UF\n",
    "- SG_UE\n",
    "- SQ_CANDIDATO\n",
    "- CD_ORIGEM_DESPESA\n",
    "- DS_ORIGEM_DESPESA\n",
    "- DS_DESPESA\n",
    "- VR_DESPESA_CONTRATADA"
   ]
  },
  {
   "cell_type": "code",
   "execution_count": 4,
   "metadata": {},
   "outputs": [
    {
     "data": {
      "text/plain": [
       "Index(['DT_GERACAO', 'HH_GERACAO', 'ANO_ELEICAO', 'CD_TIPO_ELEICAO',\n",
       "       'NM_TIPO_ELEICAO', 'CD_ELEICAO', 'DS_ELEICAO', 'DT_ELEICAO', 'ST_TURNO',\n",
       "       'TP_PRESTACAO_CONTAS', 'DT_PRESTACAO_CONTAS', 'SQ_PRESTADOR_CONTAS',\n",
       "       'SG_UF', 'SG_UE', 'NM_UE', 'NR_CNPJ_PRESTADOR_CONTA', 'CD_CARGO',\n",
       "       'DS_CARGO', 'SQ_CANDIDATO', 'NR_CANDIDATO', 'NM_CANDIDATO',\n",
       "       'NR_CPF_CANDIDATO', 'NR_CPF_VICE_CANDIDATO', 'NR_PARTIDO', 'SG_PARTIDO',\n",
       "       'NM_PARTIDO', 'CD_TIPO_FORNECEDOR', 'DS_TIPO_FORNECEDOR',\n",
       "       'CD_CNAE_FORNECEDOR', 'DS_CNAE_FORNECEDOR', 'NR_CPF_CNPJ_FORNECEDOR',\n",
       "       'NM_FORNECEDOR', 'NM_FORNECEDOR_RFB', 'CD_ESFERA_PART_FORNECEDOR',\n",
       "       'DS_ESFERA_PART_FORNECEDOR', 'SG_UF_FORNECEDOR',\n",
       "       'CD_MUNICIPIO_FORNECEDOR', 'NM_MUNICIPIO_FORNECEDOR',\n",
       "       'SQ_CANDIDATO_FORNECEDOR', 'NR_CANDIDATO_FORNECEDOR',\n",
       "       'CD_CARGO_FORNECEDOR', 'DS_CARGO_FORNECEDOR', 'NR_PARTIDO_FORNECEDOR',\n",
       "       'SG_PARTIDO_FORNECEDOR', 'NM_PARTIDO_FORNECEDOR', 'DS_TIPO_DOCUMENTO',\n",
       "       'NR_DOCUMENTO', 'CD_ORIGEM_DESPESA', 'DS_ORIGEM_DESPESA', 'SQ_DESPESA',\n",
       "       'DT_DESPESA', 'DS_DESPESA', 'VR_DESPESA_CONTRATADA'],\n",
       "      dtype='object')"
      ]
     },
     "execution_count": 4,
     "metadata": {},
     "output_type": "execute_result"
    }
   ],
   "source": [
    "df_despesas.columns"
   ]
  },
  {
   "cell_type": "markdown",
   "metadata": {},
   "source": [
    "Abaixo, estão definidos os atributos relevantes do dataset de `votação nominal`:\n",
    "\n",
    "- NR_TURNO\n",
    "- SG_UF\n",
    "- SG_UE\n",
    "- NM_UE\n",
    "- CD_CARGO\n",
    "- DS_CARGO\n",
    "- SQ_CANDIDATO\n",
    "- NM_CANDIDATO\n",
    "- NM_URNA_CANDIDATO\n",
    "- SG_PARTIDO\n",
    "- NM_PARTIDO\n",
    "- QT_VOTOS_NOMINAIS\n",
    "- QT_VOTOS_NOMINAIS_VALIDOS\n",
    "- CD_SIT_TOT_TURNO\n",
    "- DS_SIT_TOT_TURNO"
   ]
  },
  {
   "cell_type": "code",
   "execution_count": 5,
   "metadata": {},
   "outputs": [
    {
     "data": {
      "text/plain": [
       "Index(['DT_GERACAO', 'HH_GERACAO', 'ANO_ELEICAO', 'CD_TIPO_ELEICAO',\n",
       "       'NM_TIPO_ELEICAO', 'NR_TURNO', 'CD_ELEICAO', 'DS_ELEICAO', 'DT_ELEICAO',\n",
       "       'TP_ABRANGENCIA', 'SG_UF', 'SG_UE', 'NM_UE', 'CD_MUNICIPIO',\n",
       "       'NM_MUNICIPIO', 'NR_ZONA', 'CD_CARGO', 'DS_CARGO', 'SQ_CANDIDATO',\n",
       "       'NR_CANDIDATO', 'NM_CANDIDATO', 'NM_URNA_CANDIDATO',\n",
       "       'NM_SOCIAL_CANDIDATO', 'CD_SITUACAO_CANDIDATURA',\n",
       "       'DS_SITUACAO_CANDIDATURA', 'CD_DETALHE_SITUACAO_CAND',\n",
       "       'DS_DETALHE_SITUACAO_CAND', 'CD_SITUACAO_JULGAMENTO',\n",
       "       'DS_SITUACAO_JULGAMENTO', 'CD_SITUACAO_CASSACAO',\n",
       "       'DS_SITUACAO_CASSACAO', 'CD_SITUACAO_DIPLOMA', 'DS_SITUACAO_DIPLOMA',\n",
       "       'TP_AGREMIACAO', 'NR_PARTIDO', 'SG_PARTIDO', 'NM_PARTIDO',\n",
       "       'NR_FEDERACAO', 'NM_FEDERACAO', 'SG_FEDERACAO',\n",
       "       'DS_COMPOSICAO_FEDERACAO', 'SQ_COLIGACAO', 'NM_COLIGACAO',\n",
       "       'DS_COMPOSICAO_COLIGACAO', 'ST_VOTO_EM_TRANSITO', 'QT_VOTOS_NOMINAIS',\n",
       "       'NM_TIPO_DESTINACAO_VOTOS', 'QT_VOTOS_NOMINAIS_VALIDOS',\n",
       "       'CD_SIT_TOT_TURNO', 'DS_SIT_TOT_TURNO'],\n",
       "      dtype='object')"
      ]
     },
     "execution_count": 5,
     "metadata": {},
     "output_type": "execute_result"
    }
   ],
   "source": [
    "df_votacao.columns"
   ]
  },
  {
   "cell_type": "markdown",
   "metadata": {},
   "source": [
    "---\n",
    "## Seleção de Atributos Relevantes"
   ]
  },
  {
   "cell_type": "code",
   "execution_count": 6,
   "metadata": {},
   "outputs": [],
   "source": [
    "# Seleciona apenas os atributos relevantes\n",
    "df_bens     = df_bens[[\"SG_UF\",\"SG_UE\",\"NM_UE\",\"SQ_CANDIDATO\",\"CD_TIPO_BEM_CANDIDATO\",\"DS_TIPO_BEM_CANDIDATO\",\"VR_BEM_CANDIDATO\"]]\n",
    "df_despesas = df_despesas[['ST_TURNO','SG_UF','SG_UE','SQ_CANDIDATO','CD_ORIGEM_DESPESA','DS_ORIGEM_DESPESA','DS_DESPESA','VR_DESPESA_CONTRATADA']]\n",
    "df_votacao  = df_votacao[[\"NR_TURNO\",\"SG_UF\",\"SG_UE\",\"NM_UE\",\"CD_CARGO\",\"DS_CARGO\",\"SQ_CANDIDATO\",\"NM_CANDIDATO\",\"NM_URNA_CANDIDATO\",\"SG_PARTIDO\",\"NM_PARTIDO\",\"QT_VOTOS_NOMINAIS\",\"QT_VOTOS_NOMINAIS_VALIDOS\",\"CD_SIT_TOT_TURNO\",\"DS_SIT_TOT_TURNO\"]]"
   ]
  },
  {
   "cell_type": "code",
   "execution_count": 7,
   "metadata": {},
   "outputs": [
    {
     "data": {
      "text/plain": [
       "array(['Deputado Estadual', 'Deputado Federal', 'Deputado Distrital',\n",
       "       'Senador', 'Governador', 'Presidente'], dtype=object)"
      ]
     },
     "execution_count": 7,
     "metadata": {},
     "output_type": "execute_result"
    }
   ],
   "source": [
    "# Verifica os valores possíveis para o atributo \"CD_CARGO\"\n",
    "df_votacao[\"DS_CARGO\"].unique()"
   ]
  },
  {
   "cell_type": "code",
   "execution_count": 8,
   "metadata": {},
   "outputs": [],
   "source": [
    "# Filtra os dados para manter apenas os candidatos a Governador, Deputado Federal e Presidente\n",
    "df_votacao = df_votacao[(df_votacao[\"DS_CARGO\"] == \"Governador\") | (df_votacao[\"DS_CARGO\"] == \"Deputado Federal\") | (df_votacao[\"DS_CARGO\"] == \"Presidente\")]\n",
    "\n",
    "sq_candidatos = df_votacao[\"SQ_CANDIDATO\"].unique()\n",
    "df_bens = df_bens[df_bens[\"SQ_CANDIDATO\"].isin(sq_candidatos)]\n",
    "df_despesas = df_despesas[df_despesas[\"SQ_CANDIDATO\"].isin(sq_candidatos)]"
   ]
  },
  {
   "cell_type": "markdown",
   "metadata": {},
   "source": [
    "---\n",
    "## Verificação de Valores Ausentes"
   ]
  },
  {
   "cell_type": "code",
   "execution_count": 9,
   "metadata": {},
   "outputs": [],
   "source": [
    "idx_nan_votacao = df_votacao[df_votacao.isnull().any(axis=1)].index\n",
    "idx_nan_despesas = df_despesas[df_despesas.isnull().any(axis=1)].index\n",
    "idx_nan_bens    = df_bens[df_bens.isnull().any(axis=1)].index"
   ]
  },
  {
   "cell_type": "code",
   "execution_count": 10,
   "metadata": {},
   "outputs": [
    {
     "name": "stdout",
     "output_type": "stream",
     "text": [
      "Nenhum valor ausente encontrado no DataFrame de votos nominais.\n",
      "Nenhum valor ausente encontrado no DataFrame de despesas de campanha.\n",
      "Nenhum valor ausente encontrado no DataFrame de bens dos candidatos.\n"
     ]
    }
   ],
   "source": [
    "if idx_nan_votacao.empty:\n",
    "    print(\"Nenhum valor ausente encontrado no DataFrame de votos nominais.\")\n",
    "else:\n",
    "    df_votacao.iloc[idx_nan_votacao]\n",
    "    \n",
    "if idx_nan_despesas.empty:\n",
    "    print(\"Nenhum valor ausente encontrado no DataFrame de despesas de campanha.\")\n",
    "else:\n",
    "    df_despesas.iloc[idx_nan_despesas]\n",
    "    \n",
    "if idx_nan_bens.empty:\n",
    "    print(\"Nenhum valor ausente encontrado no DataFrame de bens dos candidatos.\")\n",
    "else:\n",
    "    df_bens.iloc[idx_nan_bens]"
   ]
  },
  {
   "cell_type": "markdown",
   "metadata": {},
   "source": [
    "---\n",
    "## Salvar Novos Datasets"
   ]
  },
  {
   "cell_type": "code",
   "execution_count": 11,
   "metadata": {},
   "outputs": [],
   "source": [
    "df_bens.to_csv('data/cleaned/bens_candidatos_brasil.csv', sep=';', encoding='utf-8', index=False)\n",
    "df_despesas.to_csv('data/cleaned/despesas_candidatos_brasil.csv', sep=';', encoding='utf-8', index=False)\n",
    "df_votacao.to_csv('data/cleaned/votacao_nominal_brasil.csv', sep=';', encoding='utf-8', index=False)"
   ]
  }
 ],
 "metadata": {
  "kernelspec": {
   "display_name": "Python 3",
   "language": "python",
   "name": "python3"
  },
  "language_info": {
   "codemirror_mode": {
    "name": "ipython",
    "version": 3
   },
   "file_extension": ".py",
   "mimetype": "text/x-python",
   "name": "python",
   "nbconvert_exporter": "python",
   "pygments_lexer": "ipython3",
   "version": "3.12.0"
  }
 },
 "nbformat": 4,
 "nbformat_minor": 2
}
