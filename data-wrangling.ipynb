{
 "cells": [
  {
   "cell_type": "code",
   "execution_count": 1,
   "metadata": {},
   "outputs": [],
   "source": [
    "import pandas as pd"
   ]
  },
  {
   "cell_type": "markdown",
   "metadata": {},
   "source": [
    "---\n",
    "## Leitura dos Dados\n",
    "\n",
    "Primeiramente, são lidos os dados originais disponibilizados pelo portal do TSE no formato de arquivos .csv. Após, são identificados os dados verdadeiramente relevantes ao projeto.\n",
    "\n",
    "Conforme constatado em uma breve análise das questões a serem respondidas, foi identificado que diversos atributos que compõem os datasets são irrelevantes para a completude do objetivo do projeto. Assim, foi decidido pela eliminação dessas colunas visando maior otimização (em questões relacionadas à memória) e melhor apresentação dos dados. Também, como o foco da pesquisa está centrado em determinados cargos políticos, foram retirados os registros que não competem à condidatos concorrendos a eles."
   ]
  },
  {
   "cell_type": "code",
   "execution_count": 2,
   "metadata": {},
   "outputs": [],
   "source": [
    "df_bens     = pd.read_csv('data/datasets/bens_candidatos_brasil.csv', sep=';', encoding='latin-1')"
   ]
  },
  {
   "cell_type": "code",
   "execution_count": null,
   "metadata": {},
   "outputs": [],
   "source": [
    "df_despesas = pd.read_csv('data/datasets/despesas_candidatos_brasil.csv', sep=';', encoding='latin-1')"
   ]
  },
  {
   "cell_type": "code",
   "execution_count": null,
   "metadata": {},
   "outputs": [],
   "source": [
    "df_votacao  = pd.read_csv('data/datasets/votacao_nominal_brasil.csv', sep=';', encoding='latin-1')"
   ]
  },
  {
   "cell_type": "markdown",
   "metadata": {},
   "source": [
    "Abaixo, estão definidos os atributos relevantes do dataset de `bens dos candidatos`:\n",
    "\n",
    "- SG_UF\n",
    "- SG_UE\n",
    "- NM_UE\n",
    "- SQ_CANDIDATO\n",
    "- CD_TIPO_BEM_CANDIDATO\n",
    "- DS_TIPO_BEM_CANDIDATO\n",
    "- VR_BEM_CANDIDATO"
   ]
  },
  {
   "cell_type": "code",
   "execution_count": null,
   "metadata": {},
   "outputs": [],
   "source": [
    "df_bens.columns"
   ]
  },
  {
   "cell_type": "markdown",
   "metadata": {},
   "source": [
    "Abaixo, estão definidos os atributos relevantes do dataset de `despesas dos candidatos`:\n",
    "\n",
    "- ST_TURNO\n",
    "- SG_UF\n",
    "- SG_UE\n",
    "- SQ_CANDIDATO\n",
    "- CD_ORIGEM_DESPESA\n",
    "- DS_ORIGEM_DESPESA\n",
    "- DS_DESPESA\n",
    "- VR_DESPESA_CONTRATADA"
   ]
  },
  {
   "cell_type": "code",
   "execution_count": null,
   "metadata": {},
   "outputs": [],
   "source": [
    "df_despesas.columns"
   ]
  },
  {
   "cell_type": "markdown",
   "metadata": {},
   "source": [
    "Abaixo, estão definidos os atributos relevantes do dataset de `votação nominal`:\n",
    "\n",
    "- NR_TURNO\n",
    "- SG_UF\n",
    "- SG_UE\n",
    "- NM_UE\n",
    "- CD_CARGO\n",
    "- DS_CARGO\n",
    "- SQ_CANDIDATO\n",
    "- NM_CANDIDATO\n",
    "- NM_URNA_CANDIDATO\n",
    "- SG_PARTIDO\n",
    "- NM_PARTIDO\n",
    "- QT_VOTOS_NOMINAIS\n",
    "- QT_VOTOS_NOMINAIS_VALIDOS\n",
    "- CD_SIT_TOT_TURNO\n",
    "- DS_SIT_TOT_TURNO"
   ]
  },
  {
   "cell_type": "code",
   "execution_count": null,
   "metadata": {},
   "outputs": [],
   "source": [
    "df_votacao.columns"
   ]
  },
  {
   "cell_type": "markdown",
   "metadata": {},
   "source": [
    "---\n",
    "## Seleção de Atributos Relevantes"
   ]
  },
  {
   "cell_type": "code",
   "execution_count": 6,
   "metadata": {},
   "outputs": [],
   "source": [
    "# Seleciona apenas os atributos relevantes\n",
    "df_bens     = df_bens[[\"SG_UF\",\"SG_UE\",\"NM_UE\",\"SQ_CANDIDATO\",\"CD_TIPO_BEM_CANDIDATO\",\"DS_TIPO_BEM_CANDIDATO\",\"VR_BEM_CANDIDATO\"]]\n",
    "df_despesas = df_despesas[['ST_TURNO','SG_UF','SG_UE','SQ_CANDIDATO','CD_ORIGEM_DESPESA','DS_ORIGEM_DESPESA','DS_DESPESA','VR_DESPESA_CONTRATADA']]\n",
    "df_votacao  = df_votacao[[\"NR_TURNO\",\"SG_UF\",\"SG_UE\",\"NM_UE\",\"CD_CARGO\",\"DS_CARGO\",\"SQ_CANDIDATO\",\"NM_CANDIDATO\",\"NM_URNA_CANDIDATO\",\"SG_PARTIDO\",\"NM_PARTIDO\",\"QT_VOTOS_NOMINAIS\",\"QT_VOTOS_NOMINAIS_VALIDOS\",\"CD_SIT_TOT_TURNO\",\"DS_SIT_TOT_TURNO\"]]"
   ]
  },
  {
   "cell_type": "code",
   "execution_count": null,
   "metadata": {},
   "outputs": [],
   "source": [
    "# Verifica os valores possíveis para o atributo \"CD_CARGO\"\n",
    "df_votacao[\"DS_CARGO\"].unique()"
   ]
  },
  {
   "cell_type": "code",
   "execution_count": 8,
   "metadata": {},
   "outputs": [],
   "source": [
    "# Filtra os dados para manter apenas os candidatos a Governador, Deputado Federal e Presidente\n",
    "df_votacao = df_votacao[(df_votacao[\"DS_CARGO\"] == \"Governador\") | (df_votacao[\"DS_CARGO\"] == \"Deputado Federal\") | (df_votacao[\"DS_CARGO\"] == \"Presidente\")]\n",
    "\n",
    "sq_candidatos = df_votacao[\"SQ_CANDIDATO\"].unique()\n",
    "df_bens = df_bens[df_bens[\"SQ_CANDIDATO\"].isin(sq_candidatos)]\n",
    "df_despesas = df_despesas[df_despesas[\"SQ_CANDIDATO\"].isin(sq_candidatos)]"
   ]
  },
  {
   "cell_type": "markdown",
   "metadata": {},
   "source": [
    "---\n",
    "## Verificação de Valores Ausentes"
   ]
  },
  {
   "cell_type": "code",
   "execution_count": 9,
   "metadata": {},
   "outputs": [],
   "source": [
    "idx_nan_votacao = df_votacao[df_votacao.isnull().any(axis=1)].index\n",
    "idx_nan_despesas = df_despesas[df_despesas.isnull().any(axis=1)].index\n",
    "idx_nan_bens    = df_bens[df_bens.isnull().any(axis=1)].index"
   ]
  },
  {
   "cell_type": "code",
   "execution_count": null,
   "metadata": {},
   "outputs": [],
   "source": [
    "if idx_nan_votacao.empty:\n",
    "    print(\"Nenhum valor ausente encontrado no DataFrame de votos nominais.\")\n",
    "else:\n",
    "    df_votacao.iloc[idx_nan_votacao]\n",
    "    \n",
    "if idx_nan_despesas.empty:\n",
    "    print(\"Nenhum valor ausente encontrado no DataFrame de despesas de campanha.\")\n",
    "else:\n",
    "    df_despesas.iloc[idx_nan_despesas]\n",
    "    \n",
    "if idx_nan_bens.empty:\n",
    "    print(\"Nenhum valor ausente encontrado no DataFrame de bens dos candidatos.\")\n",
    "else:\n",
    "    df_bens.iloc[idx_nan_bens]"
   ]
  },
  {
   "cell_type": "markdown",
   "metadata": {},
   "source": [
    "---\n",
    "## Verificação de Valores Inconsistentes"
   ]
  },
  {
   "cell_type": "code",
   "execution_count": null,
   "metadata": {},
   "outputs": [],
   "source": []
  },
  {
   "cell_type": "markdown",
   "metadata": {},
   "source": [
    "---\n",
    "## Normalização dos Dados"
   ]
  },
  {
   "cell_type": "code",
   "execution_count": null,
   "metadata": {},
   "outputs": [],
   "source": []
  },
  {
   "cell_type": "markdown",
   "metadata": {},
   "source": [
    "---\n",
    "## Salvar Novos Datasets"
   ]
  },
  {
   "cell_type": "code",
   "execution_count": 11,
   "metadata": {},
   "outputs": [],
   "source": [
    "df_bens.to_csv('data/cleaned/bens_candidatos_brasil.csv', sep=';', encoding='utf-8', index=False)\n",
    "df_despesas.to_csv('data/cleaned/despesas_candidatos_brasil.csv', sep=';', encoding='utf-8', index=False)\n",
    "df_votacao.to_csv('data/cleaned/votacao_nominal_brasil.csv', sep=';', encoding='utf-8', index=False)"
   ]
  }
 ],
 "metadata": {
  "kernelspec": {
   "display_name": "Python 3",
   "language": "python",
   "name": "python3"
  },
  "language_info": {
   "codemirror_mode": {
    "name": "ipython",
    "version": 3
   },
   "file_extension": ".py",
   "mimetype": "text/x-python",
   "name": "python",
   "nbconvert_exporter": "python",
   "pygments_lexer": "ipython3",
   "version": "3.12.0"
  }
 },
 "nbformat": 4,
 "nbformat_minor": 2
}
